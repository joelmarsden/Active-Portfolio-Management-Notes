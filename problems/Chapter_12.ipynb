{
 "cells": [
  {
   "metadata": {},
   "cell_type": "markdown",
   "source": "__Chapter 12 Problems__\n",
   "id": "8f4310b29a4baa20"
  },
  {
   "metadata": {
    "ExecuteTime": {
     "end_time": "2025-01-23T00:36:13.413712Z",
     "start_time": "2025-01-23T00:36:13.410483Z"
    }
   },
   "cell_type": "code",
   "source": "from math import sqrt",
   "id": "b050c2d3d6da7cb2",
   "outputs": [],
   "execution_count": 1
  },
  {
   "metadata": {},
   "cell_type": "markdown",
   "source": [
    "***\n",
    "__Question 12.1__\n",
    " > What problems can arise in using scores instead of alphas in information analysis? Where in the analysis would these problems show up?\n"
   ],
   "id": "e9bb90a260155bb6"
  },
  {
   "metadata": {},
   "cell_type": "markdown",
   "source": "Scores need to be converted into alpha predictors via a process of converting into portfolios and then evaluating these portfolios.  Any problems will show up in the performance evaluation step.  Information Analysis done incorrectly is more like 'data mining' and the problem is it is quite easy to find patterns in data that don't really exist.",
   "id": "3b6e81693e70cda8"
  },
  {
   "metadata": {},
   "cell_type": "markdown",
   "source": [
    "***\n",
    "__Question 12.2__\n",
    " > What do you conclude from the information analysis presented concerning book-to-price ratios in the United States?"
   ],
   "id": "5bd435752ab3b805"
  },
  {
   "metadata": {},
   "cell_type": "markdown",
   "source": "From the t-statistic analysis of both example A & B none of the alphas predicted are significant at the 95% confidence level which indicates neither strategy is a good one to generate exceptional returns / alpha",
   "id": "4868c9cc606e1a8b"
  },
  {
   "metadata": {},
   "cell_type": "markdown",
   "source": [
    "***\n",
    "__Question 12.3__\n",
    " > Why might we see misleading results if we looked only at the relative performance of top- and bottom-quintile portfolios instead of looking at factor portfolio performance?"
   ],
   "id": "ec370c4bf83684fe"
  },
  {
   "metadata": {},
   "cell_type": "markdown",
   "source": "You should always try compare back to the 'factor portfolio' (market-neutral / beta-neutral) when evaluating performance.  As the quintile portfolios (example A) were based on only book-to-price ratios without controlling for other factors they may contain incidental 'bets' that cloud the analysis.  Example B did this with a factor portfolio construction which is not making a market bet.",
   "id": "db73b460fbce9327"
  },
  {
   "metadata": {},
   "cell_type": "markdown",
   "source": [
    "***\n",
    "__Question 12.4__\n",
    " > The probability of observing a |t statistic | > 2, using random data, is only 5 percent. Hence, our confidence in the estimate is 95 percent. Show that the probability of observing at least one |t statistic | > 2 with 20 regressions on independent sets of random data is 64 percent."
   ],
   "id": "bac24a5d2a7c39cc"
  },
  {
   "metadata": {
    "ExecuteTime": {
     "end_time": "2025-01-23T00:36:13.420775Z",
     "start_time": "2025-01-23T00:36:13.418930Z"
    }
   },
   "cell_type": "code",
   "source": [
    "p = 0.95\n",
    "n = 20\n",
    "print(f'probability is: {1 - p**n:.2%}')"
   ],
   "id": "b0573412ad850c5f",
   "outputs": [
    {
     "name": "stdout",
     "output_type": "stream",
     "text": [
      "probability is: 64.15%\n"
     ]
    }
   ],
   "execution_count": 2
  },
  {
   "metadata": {},
   "cell_type": "markdown",
   "source": [
    "***\n",
    "__Question 12.5__\n",
    " > Show that the standard error of the information ratio is approximately $1/\\sqrt{T}$, where $T$ is the number of years of observation. Assume that you can measure the standard deviation of returns with\n",
    "perfect accuracy, so that all the error is in the estimate of the mean. Remember that the standard error of an estimated mean is $1/\\sqrt{N}$, where $N$ is the number of observations."
   ],
   "id": "87500ca0796dcf15"
  },
  {
   "metadata": {},
   "cell_type": "markdown",
   "source": [
    "Given Information ratio is:  $ IR_{p} = \\frac{\\alpha_{p}}{\\omega_{p}} $\n",
    "\n",
    "Its average over a number of years is then $ IR_{p} = \\frac{1}{T} \\sum_{t}^{T} \\frac{\\alpha_{t}}{\\omega_{t}} $\n",
    "\n",
    "as we have T samples and SE on mean is $\\frac{1}{\\sqrt{N}}$ which in our case is  $\\frac{1}{\\sqrt{T}}$\n"
   ],
   "id": "3d23c22d1d601465"
  },
  {
   "metadata": {},
   "cell_type": "markdown",
   "source": [
    "***\n",
    "__Question 12.6__\n",
    " > You wish to analyze the value of corporate insider stock transactions. Should you analyze these using the standard cross-sectional methodology or an event study? If you use an event study, what conditioning variables will you consider?"
   ],
   "id": "2006a57887625434"
  },
  {
   "metadata": {},
   "cell_type": "markdown",
   "source": [
    "As the information arrives at different times a cross-sectional methodology is not appropriate - you need to use an event study.\n",
    "\n",
    "Conditioning variables to include:\n",
    "- Type of transaction: Purchases (confidence) vs. sales (liquidity/diversification).\n",
    "- Insider role: CEO, CFO, board members, etc.\n",
    "- Transaction size: Absolute or relative to insider holdings.\n",
    "- Firm characteristics: Market cap, book-to-market ratio, sector.\n",
    "- Market conditions: Bull/bear markets, volatility.\n",
    "- Timing: Relative to earnings announcements or SEC filings.\n",
    "\n"
   ],
   "id": "e72b5a3e46a1cbcc"
  },
  {
   "metadata": {},
   "cell_type": "markdown",
   "source": [
    "***\n",
    "__Question 12.7__\n",
    " > Haugen and Baker (1996) have proposed an APT model in which expected factor returns are simply based on past 12-month moving averages. Applying this idea to the BARRA U.S. Equity model from January 1974 through March 1996 leads to an information ratio of 1.79. Applying this idea only to the risk indices in the model (using consensus expected returns for industries) leads to an information ratio of 1.26. (a) What information ratio would you expect to find from applying this model to industries only? (b) If the full application exhibits an information coefficient of 0.05, what is the implied breadth of the strategy?"
   ],
   "id": "f4ed5900d5c15b05"
  },
  {
   "metadata": {
    "ExecuteTime": {
     "end_time": "2025-01-23T00:36:13.575943Z",
     "start_time": "2025-01-23T00:36:13.553753Z"
    }
   },
   "cell_type": "code",
   "source": [
    "# IR = IC * sqrt(BR)\n",
    "ir_full = 1.79\n",
    "ir_ri_only = 1.26\n",
    "ic_full = 0.05\n",
    "print(f'Model applied to industries only is: {ir_full - ir_ri_only} as full model is used to calculate residual risk in both cases (IR = alpha/residual risk)')\n",
    "\n",
    "br = (ir_full/ic_full)**2\n",
    "print(f'Implied breadth of the strategy is: {br:.1f}')"
   ],
   "id": "ab57cf54df63f851",
   "outputs": [
    {
     "name": "stdout",
     "output_type": "stream",
     "text": [
      "Model applied to industries only is: 0.53 as full model is used to calculate residual risk in both cases (IR = alpha/residual risk)\n",
      "Implied breadth of the strategy is: 1281.6\n"
     ]
    }
   ],
   "execution_count": 3
  },
  {
   "metadata": {},
   "cell_type": "markdown",
   "source": [
    "***\n",
    "__Question 12.8__\n",
    " > A current get-rich-quick Web-site guarantees that over the next 3 months, at least three stocks mentioned on the site will exhibit annualized returns of at least 300 percent. Assuming that all stock returns are independent, normally distributed, and with expected annual returns of 12 percent and risk of 35 percent, (a) what is the probability that over one quarter at least 3 stocks out of 500 exhibit annualized returns of at least 300%? (b) How many stocks must the Web-site include for this probability to be 50 percent? (c) Identify at least two real-world deviations from the above assumptions, and discuss how they would affect the calculated probabilities."
   ],
   "id": "c7bd7f25711a1c78"
  },
  {
   "metadata": {
    "ExecuteTime": {
     "end_time": "2025-01-23T00:36:18.060280Z",
     "start_time": "2025-01-23T00:36:17.546611Z"
    }
   },
   "cell_type": "code",
   "source": [
    "import scipy.stats as stats\n",
    "mu = 0.12\n",
    "sigma_year = 0.35\n",
    "sigma_quarter = 0.35/sqrt(4)\n",
    "n = 500\n",
    "\n",
    "# part a for one stock have annualised return of 300% in quarter (75% quarterly return)\n",
    "percentile_75_and_greater = 1 - stats.norm.cdf(0.75, loc=mu, scale=sigma_quarter)\n",
    "print(f'a) 1 One stock to have 300% or greater returns for quarter is probability: {percentile_75_and_greater:.4e}, (sigma={sigma_quarter})')\n",
    "three_stocks = 1 - stats.binom.cdf(2, n, percentile_75_and_greater)\n",
    "print(f'a) 2 For 3 stocks to have 300% or greater returns for quarter is probability: {three_stocks:.4e}\\n')\n",
    "\n",
    "# part b - iterate until we find\n",
    "target_probability = 0.50\n",
    "n_stocks = n\n",
    "while (1 - stats.binom.cdf(2, n_stocks, percentile_75_and_greater)) < target_probability:\n",
    "    n_stocks += 1\n",
    "print(f'b) For probability of 50% to see 3 stocks > 300% annualised returns in quarter, the number of stocks needed is: {n_stocks}\\n')\n",
    "\n",
    "# part c\n",
    "print(f'c) In real world there are correlations between the stocks and also assumption of normally distributed may not hold')"
   ],
   "id": "1f854c29c1c123f4",
   "outputs": [
    {
     "name": "stdout",
     "output_type": "stream",
     "text": [
      "a) 1 One stock to have 300% or greater returns for quarter is probability: 1.5911e-04, (sigma=0.175)\n",
      "a) 2 For 3 stocks to have 300% or greater returns for quarter is probability: 7.8618e-05\n",
      "\n",
      "b) For probability of 50% to see 3 stocks > 300% annualised returns in quarter, the number of stocks needed is: 16807\n",
      "\n",
      "c) In real world there are correlations between the stocks and also assumption of normally distributed may not hold\n"
     ]
    }
   ],
   "execution_count": 5
  }
 ],
 "metadata": {
  "kernelspec": {
   "display_name": "Python 3",
   "language": "python",
   "name": "python3"
  },
  "language_info": {
   "codemirror_mode": {
    "name": "ipython",
    "version": 2
   },
   "file_extension": ".py",
   "mimetype": "text/x-python",
   "name": "python",
   "nbconvert_exporter": "python",
   "pygments_lexer": "ipython2",
   "version": "2.7.6"
  }
 },
 "nbformat": 4,
 "nbformat_minor": 5
}
