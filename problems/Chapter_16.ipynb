{
 "cells": [
  {
   "metadata": {},
   "cell_type": "markdown",
   "source": "__Chapter 16 Problems__",
   "id": "5888d355d1aa3e2f"
  },
  {
   "metadata": {
    "ExecuteTime": {
     "end_time": "2025-01-17T02:39:32.634310Z",
     "start_time": "2025-01-17T02:39:32.632019Z"
    }
   },
   "cell_type": "code",
   "source": "from math import sqrt",
   "id": "167ddaec414d06c9",
   "outputs": [],
   "execution_count": 1
  },
  {
   "metadata": {},
   "cell_type": "markdown",
   "source": [
    "***\n",
    "__Question 16.1__\n",
    " > Imagine that you are a stock trader, and that a portfolio manager plans to measure your trading prowess by comparing your execution prices with volume-weighted average prices. How would you attempt to look as good as possible by this measure? Would this always coincide with the best interests of the manager?"
   ],
   "id": "135d7e793a4fa096"
  },
  {
   "metadata": {
    "ExecuteTime": {
     "end_time": "2025-01-17T02:39:32.640467Z",
     "start_time": "2025-01-17T02:39:32.638989Z"
    }
   },
   "cell_type": "code",
   "source": "print('TODO')",
   "id": "c55f431bba874785",
   "outputs": [
    {
     "name": "stdout",
     "output_type": "stream",
     "text": [
      "TODO\n"
     ]
    }
   ],
   "execution_count": 2
  },
  {
   "metadata": {},
   "cell_type": "markdown",
   "source": [
    "***\n",
    "__Question 16.2__\n",
    " > Why is it more difficult to beat the bound in Eq. (16.10) with a portfolio of only 2 stocks than with a portfolio of 100 stocks?"
   ],
   "id": "1ddea44a21f757a2"
  },
  {
   "metadata": {
    "ExecuteTime": {
     "end_time": "2025-01-17T02:39:32.702205Z",
     "start_time": "2025-01-17T02:39:32.700626Z"
    }
   },
   "cell_type": "code",
   "source": "print('TODO')",
   "id": "362614b477da90eb",
   "outputs": [
    {
     "name": "stdout",
     "output_type": "stream",
     "text": [
      "TODO\n"
     ]
    }
   ],
   "execution_count": 3
  },
  {
   "metadata": {},
   "cell_type": "markdown",
   "source": [
    "***\n",
    "__Question 16.3__\n",
    " > A strategy can achieve 200 basis points of value added with 200 percent annual turnover. How much value-added should it achieve with 100 percent annual turnover? How much turnover is required in order to achieve 100 basis points of value added?"
   ],
   "id": "e65fb0e02bc57333"
  },
  {
   "metadata": {
    "ExecuteTime": {
     "end_time": "2025-01-17T02:39:32.708813Z",
     "start_time": "2025-01-17T02:39:32.706867Z"
    }
   },
   "cell_type": "code",
   "source": "print('TODO')",
   "id": "5f11a22fc5f7b881",
   "outputs": [
    {
     "name": "stdout",
     "output_type": "stream",
     "text": [
      "TODO\n"
     ]
    }
   ],
   "execution_count": 4
  },
  {
   "metadata": {},
   "cell_type": "markdown",
   "source": [
    "***\n",
    "__Question 16.4__\n",
    " > How would the presence of memory effects in market impact change the trade optimization results displayed in Fig. 16.5?"
   ],
   "id": "f9a44d496583bc8a"
  },
  {
   "metadata": {
    "ExecuteTime": {
     "end_time": "2025-01-17T02:39:32.796286Z",
     "start_time": "2025-01-17T02:39:32.793757Z"
    }
   },
   "cell_type": "code",
   "source": "print('TODO')",
   "id": "3b057b634d03f5a4",
   "outputs": [
    {
     "name": "stdout",
     "output_type": "stream",
     "text": [
      "TODO\n"
     ]
    }
   ],
   "execution_count": 5
  },
  {
   "metadata": {},
   "cell_type": "markdown",
   "source": [
    "***\n",
    "__Question 16.5__\n",
    " > In Fig. 16.5, why does high risk aversion lead to quick trading?"
   ],
   "id": "e0943354e4a2df0f"
  },
  {
   "metadata": {
    "ExecuteTime": {
     "end_time": "2025-01-17T02:39:32.868955Z",
     "start_time": "2025-01-17T02:39:32.866501Z"
    }
   },
   "cell_type": "code",
   "source": "print('TODO')",
   "id": "2447d2593df208aa",
   "outputs": [
    {
     "name": "stdout",
     "output_type": "stream",
     "text": [
      "TODO\n"
     ]
    }
   ],
   "execution_count": 6
  }
 ],
 "metadata": {
  "kernelspec": {
   "display_name": "Python 3",
   "language": "python",
   "name": "python3"
  },
  "language_info": {
   "codemirror_mode": {
    "name": "ipython",
    "version": 2
   },
   "file_extension": ".py",
   "mimetype": "text/x-python",
   "name": "python",
   "nbconvert_exporter": "python",
   "pygments_lexer": "ipython2",
   "version": "2.7.6"
  }
 },
 "nbformat": 4,
 "nbformat_minor": 5
}
