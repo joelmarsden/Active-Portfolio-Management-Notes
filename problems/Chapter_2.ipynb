{
 "cells": [
  {
   "metadata": {},
   "cell_type": "markdown",
   "source": "__Chapter 2 Problems__\n",
   "id": "b5b3958aa6990d87"
  },
  {
   "metadata": {
    "ExecuteTime": {
     "end_time": "2025-01-15T09:38:56.232828Z",
     "start_time": "2025-01-15T09:38:56.229420Z"
    }
   },
   "cell_type": "code",
   "source": "from math import sqrt",
   "id": "8efd880270fab3ff",
   "outputs": [],
   "execution_count": 1
  },
  {
   "metadata": {},
   "cell_type": "markdown",
   "source": [
    "***\n",
    "__Question 2.1__\n",
    "> In December 1992, Sears had a predicted beta of 1.05 with respect to the S&P 500 index. If the S&P 500 Index subsequently underperformed Treasury bills by 5.0 percent, what would be the expected excess return to Sears?"
   ],
   "id": "ad6f3a178ba543af"
  },
  {
   "metadata": {
    "ExecuteTime": {
     "end_time": "2025-01-15T09:38:56.241731Z",
     "start_time": "2025-01-15T09:38:56.237231Z"
    }
   },
   "cell_type": "code",
   "source": [
    "βₛ = 1.05\n",
    "rₘ = -0.05\n",
    "\n",
    "rₛ  = βₛ * rₘ\n",
    "print(f'rₛ = {rₛ:.2%}')"
   ],
   "id": "1151a3a32b17edcc",
   "outputs": [
    {
     "name": "stdout",
     "output_type": "stream",
     "text": [
      "rₛ = -5.25%\n"
     ]
    }
   ],
   "execution_count": 2
  },
  {
   "metadata": {},
   "cell_type": "markdown",
   "source": [
    "***\n",
    "__Question 2.2__\n",
    "> If the long-term expected excess return to the S&P 500 Index is 7 percent per year, what is the expected excess return to Sears."
   ],
   "id": "1ccf60adf50356e0"
  },
  {
   "metadata": {
    "ExecuteTime": {
     "end_time": "2025-01-15T09:38:56.330048Z",
     "start_time": "2025-01-15T09:38:56.328223Z"
    }
   },
   "cell_type": "code",
   "source": [
    "βₛ = 1.05\n",
    "rₘ = 0.07\n",
    "\n",
    "rₛ  = βₛ * rₘ\n",
    "print(f'rₛ = {rₛ:.2%}')"
   ],
   "id": "3734d6992c055b62",
   "outputs": [
    {
     "name": "stdout",
     "output_type": "stream",
     "text": [
      "rₛ = 7.35%\n"
     ]
    }
   ],
   "execution_count": 3
  },
  {
   "metadata": {},
   "cell_type": "markdown",
   "source": [
    "***\n",
    "__Question 2.3__\n",
    "> Assume that residual returns are uncorrelated across stocks. Stock A has a beta of 1.15 and a volatility of 35 percent. Stock B has a beta of 0.95 and a volatility of 33 percent. If the market volatility is 20 percent, what is the correlation of stock A with stock B? Which stock has higher residual volatility?"
   ],
   "id": "d365d3de214f3b19"
  },
  {
   "metadata": {
    "ExecuteTime": {
     "end_time": "2025-01-15T09:38:56.336244Z",
     "start_time": "2025-01-15T09:38:56.333808Z"
    }
   },
   "cell_type": "code",
   "source": [
    "βₐ = 1.15\n",
    "σₐ = 0.35\n",
    "βᵦ = 0.95\n",
    "σᵦ = 0.33\n",
    "σₘ = 0.20\n",
    "\n",
    "corr = (βₐ * βᵦ * σₘ ** 2) / (σₐ * σᵦ)\n",
    "print(f'corr = {corr:.2%}')\n",
    "\n",
    "ωₐ = sqrt(σₐ**2 - βₐ**2 * σₘ**2)\n",
    "ωᵦ = sqrt(σᵦ ** 2 - βᵦ ** 2 * σₘ ** 2)\n",
    "print(f'ωₐ = {ωₐ:.2%}, ωᵦ = {ωᵦ:.2%}')\n",
    "print(f\"{'wₐ' if ωₐ > ωᵦ else 'wᵦ'} has the higher residual volatility\")"
   ],
   "id": "f57c0f2f02c82dee",
   "outputs": [
    {
     "name": "stdout",
     "output_type": "stream",
     "text": [
      "corr = 37.84%\n",
      "ωₐ = 26.38%, ωᵦ = 26.98%\n",
      "wᵦ has the higher residual volatility\n"
     ]
    }
   ],
   "execution_count": 4
  },
  {
   "metadata": {},
   "cell_type": "markdown",
   "source": [
    "***\n",
    "__Question 2.4__\n",
    "> What set of expected returns would lead us to invest 100 percent in GE stock?"
   ],
   "id": "998c8e438fff1ed2"
  },
  {
   "metadata": {
    "ExecuteTime": {
     "end_time": "2025-01-15T09:38:56.353807Z",
     "start_time": "2025-01-15T09:38:56.350880Z"
    }
   },
   "cell_type": "code",
   "source": [
    "βₑ = 1.3\n",
    "print(f'GE has highest β ({βₑ}) in table (table 2.1 page 15) so we invest only when expected market returns are positive (has the highest expected out-performance).')"
   ],
   "id": "591aba217ebafef8",
   "outputs": [
    {
     "name": "stdout",
     "output_type": "stream",
     "text": [
      "GE has highest β (1.3) in table (table 2.1 page 15) so we invest only when expected market returns are positive (has the highest expected out-performance).\n"
     ]
    }
   ],
   "execution_count": 5
  },
  {
   "metadata": {},
   "cell_type": "markdown",
   "source": [
    "***\n",
    "__Question 2.5__\n",
    "> According to the CAPM, what is the expected residual return of an active manager?"
   ],
   "id": "906bc15c786880a1"
  },
  {
   "metadata": {
    "ExecuteTime": {
     "end_time": "2025-01-15T09:38:56.373310Z",
     "start_time": "2025-01-15T09:38:56.370967Z"
    }
   },
   "cell_type": "code",
   "source": "print('zero (0)')",
   "id": "627e9c2663cf596e",
   "outputs": [
    {
     "name": "stdout",
     "output_type": "stream",
     "text": [
      "zero (0)\n"
     ]
    }
   ],
   "execution_count": 6
  }
 ],
 "metadata": {
  "kernelspec": {
   "display_name": "Python 3",
   "language": "python",
   "name": "python3"
  },
  "language_info": {
   "codemirror_mode": {
    "name": "ipython",
    "version": 2
   },
   "file_extension": ".py",
   "mimetype": "text/x-python",
   "name": "python",
   "nbconvert_exporter": "python",
   "pygments_lexer": "ipython2",
   "version": "2.7.6"
  }
 },
 "nbformat": 4,
 "nbformat_minor": 5
}
