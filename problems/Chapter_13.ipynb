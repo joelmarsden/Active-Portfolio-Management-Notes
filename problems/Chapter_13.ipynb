{
 "cells": [
  {
   "metadata": {},
   "cell_type": "markdown",
   "source": "__Chapter 13 Problems__",
   "id": "5153fbf45a90c946"
  },
  {
   "metadata": {
    "ExecuteTime": {
     "end_time": "2025-01-21T06:20:19.870275Z",
     "start_time": "2025-01-21T06:20:19.827625Z"
    }
   },
   "cell_type": "code",
   "source": "import numpy as np",
   "id": "7fd47bbd1190fb72",
   "outputs": [],
   "execution_count": 1
  },
  {
   "metadata": {},
   "cell_type": "markdown",
   "source": [
    "***\n",
    "__Question 13.1__\n",
    " > Your research has identified a monthly signal with IR=1. You notice that delaying its implementation by one quarter reduces the IR to 0.75. What is the signal’s half-life? What is the half-life of the value added?\n",
    "\n",
    "Note: &emsp; $HL = -\\frac{\\Delta t \\cdot ln\\{2\\}}{ln(\\delta))}$"
   ],
   "id": "7258d8f39235605"
  },
  {
   "metadata": {
    "ExecuteTime": {
     "end_time": "2025-01-21T06:20:19.876914Z",
     "start_time": "2025-01-21T06:20:19.873765Z"
    }
   },
   "cell_type": "code",
   "source": [
    "ir = 1.0\n",
    "ir_delayed = 0.75\n",
    "delta_t = 3\n",
    "delta = ir_delayed/ir\n",
    "\n",
    "hl = -delta_t*np.log(2)/np.log(delta)\n",
    "print(f'a) The signals half-life is: {hl:.2f} months')\n",
    "\n",
    "# value add is proportional to ir^2 so\n",
    "delta_value_add = ir_delayed**2/ir**2\n",
    "hl_value_add = -delta_t*np.log(2)/np.log(delta_value_add)\n",
    "print(f'b) The half-life of the value add is: {hl_value_add:.2f} months')"
   ],
   "id": "ec900d9bdcdc0123",
   "outputs": [
    {
     "name": "stdout",
     "output_type": "stream",
     "text": [
      "a) The signals half-life is: 7.23 months\n",
      "b) The half-life of the value add is: 3.61 months\n"
     ]
    }
   ],
   "execution_count": 2
  },
  {
   "metadata": {},
   "cell_type": "markdown",
   "source": [
    "***\n",
    "__Question 13.2__\n",
    " > In further researching the signal in Problem 13.1, you discover that the correlation of active returns to this signal and this signal implemented 1 month late is 0.75. What is the optimal combination of current and lagged portfolios?\n",
    "\n",
    "Note:\n",
    "\n",
    "$ \\omega_{Now}^{*} = \\frac{\\gamma +x}{\\gamma + 1} $\n",
    "\n",
    "where\n",
    "\n",
    "$ x \\equiv \\frac{1 -\\gamma}{1 - \\rho} $"
   ],
   "id": "34879eeba9246fd7"
  },
  {
   "metadata": {
    "ExecuteTime": {
     "end_time": "2025-01-21T06:20:19.964082Z",
     "start_time": "2025-01-21T06:20:19.961966Z"
    }
   },
   "cell_type": "code",
   "source": [
    "def optimal_now_weight(gamma, rho):\n",
    "    x = (1-gamma)/(1-rho)\n",
    "    return (gamma+x)/(gamma+1)\n",
    "\n",
    "rho = 0.75\n",
    "gamma = delta**(1/delta_t)\n",
    "optimal_weight = optimal_now_weight(gamma, rho)\n",
    "\n",
    "print(f'Optimal weights of the current and lagged portfolios are: {optimal_weight:.2%} and {1-optimal_weight:.2%}')"
   ],
   "id": "87f7198f35a5bd82",
   "outputs": [
    {
     "name": "stdout",
     "output_type": "stream",
     "text": [
      "Optimal weights of the current and lagged portfolios are: 66.77% and 33.23%\n"
     ]
    }
   ],
   "execution_count": 3
  },
  {
   "metadata": {},
   "cell_type": "markdown",
   "source": [
    "***\n",
    "__Question 13.3__\n",
    " > You forecast α = 2 percent for a stock with ω = 25 percent, based on a signal with IC = 0.05. Suddenly the stock moves, with θ = 10 percent. How should you adjust your alpha? Is it now positive or negative?\n",
    "\n",
    "Note:\n",
    "\n",
    "$s^{*}(- \\Delta t) = s(- \\Delta t) -  \\frac{ IC_{1} \\cdot r( - \\Delta t,0) }{\\sigma \\cdot \\sqrt{\\Delta t}} $\n",
    "\n",
    "and\n",
    "\n",
    "$ \\alpha(\\Delta t) = (\\sigma \\cdot \\sqrt{\\Delta t}) \\cdot IC(\\Delta t) \\cdot s(0) $\n"
   ],
   "id": "6f59f890cc598a7a"
  },
  {
   "metadata": {
    "ExecuteTime": {
     "end_time": "2025-01-21T06:20:19.972540Z",
     "start_time": "2025-01-21T06:20:19.970387Z"
    }
   },
   "cell_type": "code",
   "source": [
    "alpha_forecast = 0.02\n",
    "sigma = 0.25\n",
    "ic = 0.05\n",
    "theta = 0.1\n",
    "delta_t = 1\n",
    "\n",
    "s0_delta_t = alpha_forecast / (sigma * np.sqrt(delta_t) * (ic * delta_t))\n",
    "s_new_delta_t = s0_delta_t - (ic*theta)/(sigma*np.sqrt(delta_t))\n",
    "\n",
    "# plugging in s_new_delta_t we get\n",
    "alpha_new = sigma*np.sqrt(delta_t)*ic*delta_t*s_new_delta_t\n",
    "print(f' The alpha updates from {alpha_forecast:.2%} to {alpha_new:.2%} with the stock move and the new alpha is {'positive' if alpha_new>0 else 'negative'}')"
   ],
   "id": "31ae8b7fe5bd7d00",
   "outputs": [
    {
     "name": "stdout",
     "output_type": "stream",
     "text": [
      " The alpha updates from 2.00% to 1.98% with the stock move and the new alpha is positive\n"
     ]
    }
   ],
   "execution_count": 4
  }
 ],
 "metadata": {
  "kernelspec": {
   "display_name": "Python 3",
   "language": "python",
   "name": "python3"
  },
  "language_info": {
   "codemirror_mode": {
    "name": "ipython",
    "version": 2
   },
   "file_extension": ".py",
   "mimetype": "text/x-python",
   "name": "python",
   "nbconvert_exporter": "python",
   "pygments_lexer": "ipython2",
   "version": "2.7.6"
  }
 },
 "nbformat": 4,
 "nbformat_minor": 5
}
