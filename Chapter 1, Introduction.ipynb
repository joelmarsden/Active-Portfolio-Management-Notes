{
 "cells": [
  {
   "cell_type": "markdown",
   "metadata": {},
   "source": [
    "# Chaper 1 : Introduction"
   ]
  },
  {
   "cell_type": "markdown",
   "metadata": {},
   "source": [
    "### Headline Ideas\n",
    "\n",
    "- Focus on performance relative to a benchmark (active risk and active return) rather than simply total risk and total return.\n",
    "\n",
    "\n",
    "- Idea of a **residual component of return** : the return that is uncorrelated with the benchmark return.\n",
    "\n",
    "\n",
    "- **The Information Ratio** : $\\frac{E[\\text{Annual residual return}]}{Var[\\text{Annual residual volatility}]}$ - defines the opportunities available to the active manager. A larger information ratio means greater opportunity for active management.\n",
    "\n",
    "### In more detail\n",
    "\n",
    "To incorporate investor preferences for residual risk and residual return, authors define a **risk-adjusted expected return** (value added) which is defined as residual return minus a quadratic penalty on residual risk (a linear penalty on residual variance). In active management the highest value-added is proportional to the square of the information ratio.\n",
    "\n",
    "The square of the information ratio indicates our ability to add value.\n",
    "\n",
    "The sources of investment opportunity are:\n",
    "\n",
    "1 - Ability to forecast an asset's residual return. The **information coefficient** : correlation between the forecast and eventual returns (a skill measure).\n",
    "\n",
    "\n",
    "2 -  Breadth : the number of times per year we can use our skill. For the same skill level, it is better to forecast the returns on 1000 stocks than no 100 stocks. The information ratio grows in proportion to our skill and in proportion to the square root of breadth: $IR = IC\\sqrt{breath}$.\n",
    "\n",
    "**Active management is forecasting**: without forecasts we should invest passively and choose the benchmark. In this book the rule of thumb is $\\alpha = vol*IC*Score$ which relates a standardized $N(0,1)$ score to a residual return forecast ($\\alpha$). We take a raw signal as an input, convert it to a score and multiply by vol to obtain $\\alpha$.\n",
    "\n",
    "If forecasts contain no information $IC = 0$, the rule of thumb converts the informationless scores to residual return forecasts of zero, and the manager will invest in the benchmark. In other words, \"garbage in\" is converted to zero."
   ]
  }
 ],
 "metadata": {
  "kernelspec": {
   "display_name": "Python 3",
   "language": "python",
   "name": "python3"
  },
  "language_info": {
   "codemirror_mode": {
    "name": "ipython",
    "version": 3
   },
   "file_extension": ".py",
   "mimetype": "text/x-python",
   "name": "python",
   "nbconvert_exporter": "python",
   "pygments_lexer": "ipython3",
   "version": "3.5.1"
  }
 },
 "nbformat": 4,
 "nbformat_minor": 0
}
