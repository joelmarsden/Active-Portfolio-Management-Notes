{
 "cells": [
  {
   "metadata": {},
   "cell_type": "markdown",
   "source": "__Chapter 10 Problems__\n",
   "id": "29227d067beabf18"
  },
  {
   "metadata": {
    "ExecuteTime": {
     "end_time": "2025-01-16T10:17:03.283968Z",
     "start_time": "2025-01-16T10:17:03.040156Z"
    }
   },
   "cell_type": "code",
   "source": [
    "from math import sqrt\n",
    "import pandas as pd"
   ],
   "id": "ea4c14d83f2d1321",
   "outputs": [],
   "execution_count": 1
  },
  {
   "metadata": {},
   "cell_type": "markdown",
   "source": [
    "***\n",
    "__Question 10.1__\n",
    " > Assume that residual returns are uncorrelated, and that we will use an optimizer to maxi- mize risk-adjusted residual return. Using the data in Table 10.3, what asset will the optimizer choose as the largest positive active holding? How would that change if we had assigned α = 1 for buys and α = −1 for sells? Hint: At optimality, assuming uncorrelated residual returns, the optimal active holdings are\n",
    " > $$ h_{n} = \\frac{\\alpha_{n}}{2\\lambda_{R}\\omega_{n}^2} $$\n",
    " >"
   ],
   "id": "bafee5bfcafeff9c"
  },
  {
   "metadata": {
    "ExecuteTime": {
     "end_time": "2025-01-16T10:17:03.300239Z",
     "start_time": "2025-01-16T10:17:03.291417Z"
    }
   },
   "cell_type": "code",
   "source": [
    "def optimal_holding(alpha_n, lambda_r, omega_n):\n",
    "    return alpha_n / (2*lambda_r*omega_n**2)\n",
    "\n",
    "lambda_r = 0.1\n",
    "data = pd.read_csv('Table_10.3.csv')\n",
    "\n",
    "data['Optimal Holding'] = data.apply(lambda row: optimal_holding(row['Alpha'], lambda_r, row['Residual Volatility']), axis=1)\n",
    "print(f'a) largest active holding:\\n {data.loc[data['Optimal Holding'].idxmax()]}\\n')\n",
    "\n",
    "# from the notes when using score for alpha - pick the stock with the lowest residual risk (same as running through the formula)\n",
    "data['Optimal Holding (Score)'] = data.apply(lambda row: optimal_holding(row['Score'], lambda_r, row['Residual Volatility']), axis=1)\n",
    "print(f'b) Lowest Residual Risk is:\\n {data.loc[data['Residual Volatility'].idxmin()]}')\n",
    "matches = data['Optimal Holding (Score)'].idxmax() == data['Residual Volatility'].idxmin()\n",
    "print(f'lowest residual risk should equal Optimal Holding (Score): {matches}')"
   ],
   "id": "c5a43dc445fe68ff",
   "outputs": [
    {
     "name": "stdout",
     "output_type": "stream",
     "text": [
      "a) largest active holding:\n",
      " MMI Stock                  AT&T\n",
      "Residual Volatility       15.89\n",
      "View                        Buy\n",
      "Score                         1\n",
      "Alpha                      1.43\n",
      "Optimal Holding        0.028318\n",
      "Name: 1, dtype: object\n",
      "\n",
      "b) Lowest Residual Risk is:\n",
      " MMI Stock                        3M\n",
      "Residual Volatility           13.41\n",
      "View                           Sell\n",
      "Score                             1\n",
      "Alpha                         -1.21\n",
      "Optimal Holding           -0.033643\n",
      "Optimal Holding (Score)    0.027804\n",
      "Name: 16, dtype: object\n",
      "lowest residual risk should equal Optimal Holding (Score): True\n"
     ]
    }
   ],
   "execution_count": 2
  },
  {
   "metadata": {},
   "cell_type": "markdown",
   "source": [
    "***\n",
    "__Question 10.2__\n",
    " > For the situation described in Problem 1, show that using the forecasting rule of thumb, we assume equal risk for each asset. What happens if we just use α = 1 for buys and α = −1 for sells\n",
    " >\n",
    " > Note:  &emsp; $ Refined  Forecast = volatility \\cdot IC \\cdot score  $"
   ],
   "id": "3b68728bc9293ee7"
  },
  {
   "metadata": {
    "ExecuteTime": {
     "end_time": "2025-01-16T10:17:03.386764Z",
     "start_time": "2025-01-16T10:17:03.384460Z"
    }
   },
   "cell_type": "code",
   "source": "print(f'Follows directly from refined forecast = volatility * IC * score as IC is constant and volatility flips sign as it does with the score')",
   "id": "403c0f9fe9db0896",
   "outputs": [
    {
     "name": "stdout",
     "output_type": "stream",
     "text": [
      "Follows directly from refined forecast = volatility * IC * score as IC is constant and volatility flips sign as it does with the score\n"
     ]
    }
   ],
   "execution_count": 3
  },
  {
   "metadata": {},
   "cell_type": "markdown",
   "source": [
    "***\n",
    "__Question 10.3__\n",
    " > Use the basic forecasting formula [Eq. (10.1)] to derive Eq. (10.20), the refined forecast in\n",
    "the case of one asset and two forecasts."
   ],
   "id": "412908178c1490a1"
  },
  {
   "metadata": {
    "ExecuteTime": {
     "end_time": "2025-01-16T10:17:03.478946Z",
     "start_time": "2025-01-16T10:17:03.471999Z"
    }
   },
   "cell_type": "code",
   "source": "print('TODO')",
   "id": "db62da412049a96c",
   "outputs": [
    {
     "name": "stdout",
     "output_type": "stream",
     "text": [
      "TODO\n"
     ]
    }
   ],
   "execution_count": 4
  },
  {
   "metadata": {},
   "cell_type": "markdown",
   "source": [
    "***\n",
    "__Question 10.4__\n",
    " > In the case of two forecasts [Eq. (10.20)], (a) what is the variance of the combined forecast? (b) What is its covariance with the return? (c) Verify explicitly that the combination of g and g′ in the example leads to an IC of 0.1090. Compare this to the result from Eq. (10.27)."
   ],
   "id": "42246880297abcd4"
  },
  {
   "metadata": {
    "ExecuteTime": {
     "end_time": "2025-01-16T10:17:03.558Z",
     "start_time": "2025-01-16T10:17:03.552094Z"
    }
   },
   "cell_type": "code",
   "source": "print('TODO')",
   "id": "1e28657b91049e43",
   "outputs": [
    {
     "name": "stdout",
     "output_type": "stream",
     "text": [
      "TODO\n"
     ]
    }
   ],
   "execution_count": 5
  },
  {
   "metadata": {},
   "cell_type": "markdown",
   "source": [
    "***\n",
    "__Question 10.5__\n",
    " > You are using a neural net to forecast returns to one stock. The net inputs include fundamental counting data, analyst’s forecasts, and past returns. The net combines these nonlinearly. How would the forecasting rule of thumb change under these circumstances?"
   ],
   "id": "54542475f0e1ab99"
  },
  {
   "metadata": {
    "ExecuteTime": {
     "end_time": "2025-01-16T10:17:03.615066Z",
     "start_time": "2025-01-16T10:17:03.609774Z"
    }
   },
   "cell_type": "code",
   "source": "print('TODO')",
   "id": "f71c5ed3bb97f492",
   "outputs": [
    {
     "name": "stdout",
     "output_type": "stream",
     "text": [
      "TODO\n"
     ]
    }
   ],
   "execution_count": 6
  }
 ],
 "metadata": {
  "kernelspec": {
   "display_name": "Python 3",
   "language": "python",
   "name": "python3"
  },
  "language_info": {
   "codemirror_mode": {
    "name": "ipython",
    "version": 2
   },
   "file_extension": ".py",
   "mimetype": "text/x-python",
   "name": "python",
   "nbconvert_exporter": "python",
   "pygments_lexer": "ipython2",
   "version": "2.7.6"
  }
 },
 "nbformat": 4,
 "nbformat_minor": 5
}
