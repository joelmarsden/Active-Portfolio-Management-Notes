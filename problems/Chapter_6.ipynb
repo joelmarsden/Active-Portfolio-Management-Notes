{
 "cells": [
  {
   "metadata": {},
   "cell_type": "markdown",
   "source": "__Chapter 6 Problems__\n",
   "id": "6588b212440a27d1"
  },
  {
   "metadata": {
    "ExecuteTime": {
     "end_time": "2025-01-15T09:39:14.660918Z",
     "start_time": "2025-01-15T09:39:14.657831Z"
    }
   },
   "cell_type": "code",
   "source": "from math import sqrt",
   "id": "ed535661e6908651",
   "outputs": [],
   "execution_count": 1
  },
  {
   "metadata": {},
   "cell_type": "markdown",
   "source": [
    "***\n",
    "__Question 6.1__\n",
    " > Manager A is a stock picker. He follows 250 companies, making new forecasts each quarter. His forecasts are 2 percent correlated with subsequent residual returns. Manager B engages in tacit asset allocation, timing four equity styles (value, growth, large, small) every quarter. (a) What must Manager B’s skill level be to match Manager A’s information ratio? (b) What information ratio could a sponsor achieve by employing both managers, assuming that Manager B has a skill level of 8 percent?"
   ],
   "id": "1de2f50a1b161fca"
  },
  {
   "metadata": {
    "ExecuteTime": {
     "end_time": "2025-01-15T09:39:14.725779Z",
     "start_time": "2025-01-15T09:39:14.722641Z"
    }
   },
   "cell_type": "code",
   "source": [
    "# Manager A\n",
    "ic_a = 0.02\n",
    "br_a = 250 * 4 # 250 stocks quarterly\n",
    "ir_a = ic_a * sqrt(br_a)\n",
    "\n",
    "# Manager B\n",
    "ic_b = 0.08\n",
    "br_b = 4 * 4  # 4 indexes * 4 times per year\n",
    "ir_b = ic_b * sqrt(br_b)\n",
    "\n",
    "# part A\n",
    "ic_b_match = ir_a / sqrt(br_b)\n",
    "print(f'a) for Manager B to match Manager A their ic needs to be: {ic_b_match:.3f}')\n",
    "\n",
    "# part B = deploying both managers (equally) and assuming independent\n",
    "ir_c = sqrt(ir_a ** 2 + ir_b ** 2)\n",
    "print(f'a) using both managers (equally and independent) the IR is: {ir_c:.3f}')"
   ],
   "id": "a58cd13d9a86121",
   "outputs": [
    {
     "name": "stdout",
     "output_type": "stream",
     "text": [
      "a) for Manager B to match Manager A their ic needs to be: 0.158\n",
      "a) using both managers (equally and independent) the IR is: 0.709\n"
     ]
    }
   ],
   "execution_count": 2
  },
  {
   "metadata": {},
   "cell_type": "markdown",
   "source": [
    "***\n",
    "__Question 6.2__\n",
    " >  A stock picker follows 500 stocks and updates his alphas every month. He has an IC = 0.05 and an IR = 1.0. (a) How many bets does he make per year? (b) How many independent bets does he make per year? (c) What does this tell you about his alphas?"
   ],
   "id": "297c6347d52c0bad"
  },
  {
   "metadata": {
    "ExecuteTime": {
     "end_time": "2025-01-15T09:39:14.793947Z",
     "start_time": "2025-01-15T09:39:14.791203Z"
    }
   },
   "cell_type": "code",
   "source": [
    "bets = 500 * 12\n",
    "ic_p = 0.05\n",
    "ir_p = 1.0\n",
    "\n",
    "br_p = (ir_p / ic_p) ** 2\n",
    "\n",
    "print(f'a) bets made per year: {bets}')\n",
    "print(f'b) independent bets (breadth) made per year: {br_p}')\n",
    "print(f'c) as breath: {br_p} < {bets} (number bets placed) this tells us the alphas are not independent')"
   ],
   "id": "94dc80af47e74df6",
   "outputs": [
    {
     "name": "stdout",
     "output_type": "stream",
     "text": [
      "a) bets made per year: 6000\n",
      "b) independent bets (breadth) made per year: 400.0\n",
      "c) as breath: 400.0 < 6000 (number bets placed) this tells us the alphas are not independent\n"
     ]
    }
   ],
   "execution_count": 3
  },
  {
   "metadata": {},
   "cell_type": "markdown",
   "source": [
    "***\n",
    "__Question 6.3__\n",
    " >  In the example involving residual returns $\\theta_{n}$ composed of 300 elements $\\theta_{n,j}$ an investment manager must choose between three research programs:\n",
    " > - (a) Follow 200 stocks each quarter and accurately forecast $\\theta_{n,12}$ and  $\\theta_{n,15}$\n",
    " > - (b) Follow 200 stocks each quarter and accurately forecast $\\theta_{n,5}$ and $\\theta_{n,105}$\n",
    " > - (c) Follow 100 stocks each quarter and accurately forecast $\\theta_{n,5}$, $\\theta_{n,12}$ and $\\theta_{n,105}$\n",
    " >\n",
    " > Compare the three programs, all assumed to be equally costly. Which would be most effective (highest value added)?"
   ],
   "id": "6f45180af3ea784c"
  },
  {
   "metadata": {
    "ExecuteTime": {
     "end_time": "2025-01-15T09:39:14.878950Z",
     "start_time": "2025-01-15T09:39:14.875978Z"
    }
   },
   "cell_type": "code",
   "source": [
    "n = 300\n",
    "\n",
    "def calculate_ir(br, num_forecasts, num_elements):\n",
    "    std_forecast = sqrt(num_forecasts)\n",
    "    std_n = sqrt(num_elements)\n",
    "    ic = num_forecasts/(std_n*std_forecast) # forecasts are correlated '1' so can add them\n",
    "    ir = ic*sqrt(br)\n",
    "    return ir\n",
    "\n",
    "# prefer the highest IR as VA is proportional to IR²\n",
    "print(f'a) IR of program A is: {calculate_ir(200*4, 2, n):.2f}')\n",
    "print(f'b) IR of program B is: {calculate_ir(200*4, 2, n):.2f}')\n",
    "print(f'c) IR of program C is: {calculate_ir(100*4, 3, n):.2f}')"
   ],
   "id": "157ccb3b50ab0961",
   "outputs": [
    {
     "name": "stdout",
     "output_type": "stream",
     "text": [
      "a) IR of program A is: 2.31\n",
      "b) IR of program B is: 2.31\n",
      "c) IR of program C is: 2.00\n"
     ]
    }
   ],
   "execution_count": 4
  }
 ],
 "metadata": {
  "kernelspec": {
   "display_name": "Python 3",
   "language": "python",
   "name": "python3"
  },
  "language_info": {
   "codemirror_mode": {
    "name": "ipython",
    "version": 2
   },
   "file_extension": ".py",
   "mimetype": "text/x-python",
   "name": "python",
   "nbconvert_exporter": "python",
   "pygments_lexer": "ipython2",
   "version": "2.7.6"
  }
 },
 "nbformat": 4,
 "nbformat_minor": 5
}
