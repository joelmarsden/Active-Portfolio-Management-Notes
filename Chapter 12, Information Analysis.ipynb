{
 "cells": [
  {
   "metadata": {},
   "cell_type": "markdown",
   "source": "# Chapter 12: Information Analysis",
   "id": "38c5fbbf9e4a769b"
  },
  {
   "metadata": {},
   "cell_type": "markdown",
   "source": [
    "## Summary\n",
    "- Information analysis is a two-step process\n",
    "- Step 1 is to turn information into portfolios\n",
    "- Step 2 is to analyse the performance of those portfolios\n",
    "- Event studies provide analysis when information arrives episodically"
   ],
   "id": "98aa70b4d0c083b6"
  },
  {
   "metadata": {
    "ExecuteTime": {
     "end_time": "2025-01-17T02:50:01.022992Z",
     "start_time": "2025-01-17T02:50:00.768467Z"
    }
   },
   "cell_type": "code",
   "source": [
    "import numpy as np\n",
    "import matplotlib.pyplot as plt\n",
    "%matplotlib inline"
   ],
   "id": "3013a71388781ccd",
   "outputs": [],
   "execution_count": 2
  },
  {
   "metadata": {},
   "cell_type": "markdown",
   "source": [
    "## Information & Active Management\n",
    "\n",
    "- Active Managers use information to predict the future exceptional return on a group of stock\n",
    "- The emphasis is on predicting _alpha_ or residual return, beta-adjusted return relative to a benchmark\n",
    "- We call a set of data a _predictor_\n",
    "- Any predictor is made up of signal plus noise\n",
    "- Information analysis is an effort to find the signal-to-noise ratio\n",
    "- Predictors are limited only by availability and imagination\n",
    "\n",
    "**Information Classification Dimensions**\n",
    "- Primary or processed\n",
    "- Judgemental or impartial\n",
    "- Ordinal or cardinal\n",
    "- Historical, contemporary, or forecast\n"
   ],
   "id": "b6c85a6579703147"
  },
  {
   "metadata": {},
   "cell_type": "markdown",
   "source": [
    "## Step 1: Information into Portfolios ##\n",
    "\n",
    "**Some possible approaches**\n",
    "- _Procedure 1_ &emsp; With buy/sell recommendations we could equal- (or value-) weight the buy group and the sell group\n",
    "- _Procedure 2_ &emsp; With scores, we can build a portfolio for each score by equal- (or value-) weighting within each score category\n",
    "- _Procedure 3_ &emsp; With straight alphas we can split the stocks into tw groups (higher than average, lower than average alphas)  We can then weight the stocks by how far their alpha is from the average\n",
    "- _Procedure 4_ &emsp; With straight alphas we can rank the assets according to alpha and then group into e.g. quintiles\n",
    "- _Procedure 5_ &emsp; With any numerical score we can build a factor portfolio that bets on the prediction and does not make a market bet.  Factor portfolio consists of a long portfolio and a short portfolio (of equal value and beta but the long portfolio will have a unit bet on the prediction relative to the short portfolio)\n",
    "- _Procedure 6_ &emsp; With any numerical score we can build a factor portfolio (as above) designed so that the long and short portfolios are matched on a set of pre-specified control variables.  e.g. we could ensure the long and short portfolios match on industry, sector etc"
   ],
   "id": "cc31ad26f324a752"
  }
 ],
 "metadata": {
  "kernelspec": {
   "display_name": "Python 3",
   "language": "python",
   "name": "python3"
  },
  "language_info": {
   "codemirror_mode": {
    "name": "ipython",
    "version": 2
   },
   "file_extension": ".py",
   "mimetype": "text/x-python",
   "name": "python",
   "nbconvert_exporter": "python",
   "pygments_lexer": "ipython2",
   "version": "2.7.6"
  }
 },
 "nbformat": 4,
 "nbformat_minor": 5
}
