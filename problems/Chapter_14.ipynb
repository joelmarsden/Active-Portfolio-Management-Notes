{
 "cells": [
  {
   "metadata": {},
   "cell_type": "markdown",
   "source": "__Chapter 14 Problems__",
   "id": "5888d355d1aa3e2f"
  },
  {
   "metadata": {
    "ExecuteTime": {
     "end_time": "2025-01-17T02:29:17.162985Z",
     "start_time": "2025-01-17T02:29:17.159384Z"
    }
   },
   "cell_type": "code",
   "source": "from math import sqrt",
   "id": "167ddaec414d06c9",
   "outputs": [],
   "execution_count": 1
  },
  {
   "metadata": {},
   "cell_type": "markdown",
   "source": [
    "***\n",
    "__Question 14.1__\n",
    " > Table 14.1 shows both alphas used in a constrained optimization and the modified alphas which, in an unconstrained optimization, lead to the same holdings. Comparing these two sets of alphas can help in estimating the loss in value added caused by the constraints. How? What is the loss in this example? The next chapter will discuss this in more detail."
   ],
   "id": "135d7e793a4fa096"
  },
  {
   "metadata": {
    "ExecuteTime": {
     "end_time": "2025-01-17T02:29:17.250852Z",
     "start_time": "2025-01-17T02:29:17.249440Z"
    }
   },
   "cell_type": "code",
   "source": "print('TODO')",
   "id": "c55f431bba874785",
   "outputs": [
    {
     "name": "stdout",
     "output_type": "stream",
     "text": [
      "TODO\n"
     ]
    }
   ],
   "execution_count": 2
  },
  {
   "metadata": {},
   "cell_type": "markdown",
   "source": [
    "***\n",
    "__Question 14.2__\n",
    " > Discuss how restrictions on short sales are both a barrier to a manager’s effective use of information and a safeguard against poor information."
   ],
   "id": "1ddea44a21f757a2"
  },
  {
   "metadata": {
    "ExecuteTime": {
     "end_time": "2025-01-17T02:29:17.256799Z",
     "start_time": "2025-01-17T02:29:17.254994Z"
    }
   },
   "cell_type": "code",
   "source": "print('TODO')",
   "id": "362614b477da90eb",
   "outputs": [
    {
     "name": "stdout",
     "output_type": "stream",
     "text": [
      "TODO\n"
     ]
    }
   ],
   "execution_count": 3
  },
  {
   "metadata": {},
   "cell_type": "markdown",
   "source": [
    "***\n",
    "__Question 14.3__\n",
    " > Lisa is a value manager who chooses stocks based on their price/earnings ratios. What biases would you expect to see in her alphas? How should she construct portfolios based on these alphas, in order to bet only on specific asset returns?"
   ],
   "id": "e65fb0e02bc57333"
  },
  {
   "metadata": {
    "ExecuteTime": {
     "end_time": "2025-01-17T02:29:17.271991Z",
     "start_time": "2025-01-17T02:29:17.269947Z"
    }
   },
   "cell_type": "code",
   "source": "print('TODO')",
   "id": "5f11a22fc5f7b881",
   "outputs": [
    {
     "name": "stdout",
     "output_type": "stream",
     "text": [
      "TODO\n"
     ]
    }
   ],
   "execution_count": 4
  },
  {
   "metadata": {},
   "cell_type": "markdown",
   "source": [
    "***\n",
    "__Question 14.4__\n",
    " > You are a benchmark timer who in back-tests can add 50 basis points of risk-adjusted value added. You forecast 14 percent benchmark volatility, the recent average, but unfortunately benchmark volatility turns out to be 17 percent. How much value can you add, given this mis-estimation of benchmark volatility?"
   ],
   "id": "f9a44d496583bc8a"
  },
  {
   "metadata": {
    "ExecuteTime": {
     "end_time": "2025-01-17T02:29:17.347259Z",
     "start_time": "2025-01-17T02:29:17.344848Z"
    }
   },
   "cell_type": "code",
   "source": "print('TODO')",
   "id": "3b057b634d03f5a4",
   "outputs": [
    {
     "name": "stdout",
     "output_type": "stream",
     "text": [
      "TODO\n"
     ]
    }
   ],
   "execution_count": 5
  },
  {
   "metadata": {},
   "cell_type": "markdown",
   "source": [
    "***\n",
    "__Question 14.5__\n",
    " > You manage 20 separate accounts using the same investment process. Each portfolio holds about 100 names, with 90 names appearing in all the accounts and 10 names unique to the particular account. Roughly how much dispersion should you expect to see?"
   ],
   "id": "e0943354e4a2df0f"
  },
  {
   "metadata": {
    "ExecuteTime": {
     "end_time": "2025-01-17T02:29:17.424830Z",
     "start_time": "2025-01-17T02:29:17.422173Z"
    }
   },
   "cell_type": "code",
   "source": "print('TODO')",
   "id": "2447d2593df208aa",
   "outputs": [
    {
     "name": "stdout",
     "output_type": "stream",
     "text": [
      "TODO\n"
     ]
    }
   ],
   "execution_count": 6
  }
 ],
 "metadata": {
  "kernelspec": {
   "display_name": "Python 3",
   "language": "python",
   "name": "python3"
  },
  "language_info": {
   "codemirror_mode": {
    "name": "ipython",
    "version": 2
   },
   "file_extension": ".py",
   "mimetype": "text/x-python",
   "name": "python",
   "nbconvert_exporter": "python",
   "pygments_lexer": "ipython2",
   "version": "2.7.6"
  }
 },
 "nbformat": 4,
 "nbformat_minor": 5
}
