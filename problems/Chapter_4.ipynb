{
 "cells": [
  {
   "metadata": {},
   "cell_type": "markdown",
   "source": "__Chapter 4 Problems__",
   "id": "a20632165d2b448b"
  },
  {
   "metadata": {
    "ExecuteTime": {
     "end_time": "2025-01-15T09:39:05.699854Z",
     "start_time": "2025-01-15T09:39:05.697569Z"
    }
   },
   "cell_type": "code",
   "source": "from math import sqrt",
   "id": "7b2f4ba9c16c5664",
   "outputs": [],
   "execution_count": 1
  },
  {
   "metadata": {},
   "cell_type": "markdown",
   "source": [
    "***\n",
    "__Question 4.1__\n",
    " > Assume a risk-free rate of 6 percent, a benchmark expected excess return of 6.5 percent, and a long range benchmark expected excess return of 6 percent. Given that McDonald’s has a beta of 1.07 and an expected total return of 15 percent, separate its expected return into\n",
    " > -  time premium\n",
    " > -  risk premium\n",
    " > -  exceptional benchmark return\n",
    " > -  alpha\n",
    " > -  consensus expected return\n",
    " > -  expected excess return\n",
    " > -  exceptional expected return\n",
    " > - What is the sum of the consensus expected return and the exceptional expected return?"
   ],
   "id": "91b72f8083746dab"
  },
  {
   "metadata": {},
   "cell_type": "markdown",
   "source": "Note: &emsp; ${ E\\{R_{n}\\} = 1 + i_{f} + \\beta _{n} \\cdot \\mu_{B} + \\beta_{n} \\cdot \\Delta f_{B} + \\alpha_{n} }$",
   "id": "3581c8d36d4368f1"
  },
  {
   "metadata": {
    "ExecuteTime": {
     "end_time": "2025-01-15T09:39:05.706027Z",
     "start_time": "2025-01-15T09:39:05.702591Z"
    }
   },
   "cell_type": "code",
   "source": [
    "i_f = 0.06\n",
    "beta_mcdonalds = 1.07\n",
    "mu_b = 0.06\n",
    "mu_mcdonalds = 0.065\n",
    "expected_return_mcdonalds = 1.15\n",
    "\n",
    "delta_f_b = mu_mcdonalds - mu_b\n",
    "alpha_mcdonalds = expected_return_mcdonalds - 1 - i_f - beta_mcdonalds*mu_b - beta_mcdonalds*delta_f_b\n",
    "\n",
    "print(f'a. time premium: {i_f:.2%}')\n",
    "print(f'b. risk premium: {beta_mcdonalds*mu_b:.2%}')\n",
    "print(f'c. exceptional benchmark return: {beta_mcdonalds*delta_f_b:.2%}')\n",
    "print(f'd. alpha: {alpha_mcdonalds:.2%}')\n",
    "print(f'e. consensus expected return: {beta_mcdonalds*mu_b:.2%}')\n",
    "print(f'f. expected excess return: {beta_mcdonalds*mu_b + beta_mcdonalds*delta_f_b + alpha_mcdonalds:.2%}')\n",
    "print(f'g. exceptional excess return: {beta_mcdonalds*delta_f_b + alpha_mcdonalds:.2%}')\n",
    "print(f'h. expected+exceptional excess return: {beta_mcdonalds*mu_b + beta_mcdonalds*delta_f_b + alpha_mcdonalds:.2%}')\n"
   ],
   "id": "9b99b391fc84a86a",
   "outputs": [
    {
     "name": "stdout",
     "output_type": "stream",
     "text": [
      "a. time premium: 6.00%\n",
      "b. risk premium: 6.42%\n",
      "c. exceptional benchmark return: 0.54%\n",
      "d. alpha: 2.04%\n",
      "e. consensus expected return: 6.42%\n",
      "f. expected excess return: 9.00%\n",
      "g. exceptional excess return: 2.58%\n",
      "h. expected+exceptional excess return: 9.00%\n"
     ]
    }
   ],
   "execution_count": 2
  },
  {
   "metadata": {},
   "cell_type": "markdown",
   "source": [
    "***\n",
    "__Question 4.2__\n",
    "> Suppose the benchmark is not the market, and the CAPM holds. How will the CAPM expected returns split into the categories suggested in this chapter?"
   ],
   "id": "58ad5fab74d83a70"
  },
  {
   "metadata": {},
   "cell_type": "markdown",
   "source": [
    "- Time premium still exists $i_{f}$\n",
    "- Risk premium is $\\beta_{n} \\cdot \\mu_{M}$\n",
    "- Exceptional benchmark return is zero (0) - as CAPM\n",
    "- Alpha is the remaining component from ${ E\\{R_{n}\\} = 1 + i_{f} + \\beta_{n} \\cdot \\mu_{M} + \\alpha_{n} }$\n",
    "- Consensus expected return = risk premium\n",
    "- Expected excess return ${ \\beta_{n} \\cdot \\mu_{M} + \\alpha_{n} }$\n",
    "- Exceptional excess Return = $ \\alpha_{n} $"
   ],
   "id": "95202bd26f82ead5"
  },
  {
   "metadata": {},
   "cell_type": "markdown",
   "source": [
    "***\n",
    "__Question 4.3__\n",
    "> Given a benchmark risk of 20 percent and a portfolio risk of 21 percent, and assuming a portfolio beta of 1, what is the portfolio’s residual risk? What is its active risk? How does this compare to the difference between the portfolio risk and the benchmark risk?"
   ],
   "id": "39f4edae1a3e0801"
  },
  {
   "metadata": {},
   "cell_type": "markdown",
   "source": [
    "Notes:\n",
    "- variance is given by $ \\sigma^{2}_{n} = \\beta^{2}_{n}\\sigma^{2}_{M} + \\omega^{2}_{n}$"
   ],
   "id": "55933560f194076"
  },
  {
   "metadata": {
    "ExecuteTime": {
     "end_time": "2025-01-15T09:39:05.764029Z",
     "start_time": "2025-01-15T09:39:05.761338Z"
    }
   },
   "cell_type": "code",
   "source": [
    "sigma_p = 0.21\n",
    "sigma_m = 0.20\n",
    "beta_p = 1\n",
    "\n",
    "omega_p = sqrt( sigma_p**2 - beta_p**2 * sigma_m**2 )\n",
    "print(f'residual risk: {omega_p:.2%}')\n",
    "\n",
    "beta_active = 0\n",
    "active_risk = sqrt( omega_p**2 + beta_active**2 * sigma_m**2 )\n",
    "print(f'active risk: {active_risk:.2%}')"
   ],
   "id": "6598b977d6f7200e",
   "outputs": [
    {
     "name": "stdout",
     "output_type": "stream",
     "text": [
      "residual risk: 6.40%\n",
      "active risk: 6.40%\n"
     ]
    }
   ],
   "execution_count": 3
  },
  {
   "metadata": {},
   "cell_type": "markdown",
   "source": [
    "***\n",
    "__Question 4.4__\n",
    "> Investor A manages total return and risk ($f_{P} − \\lambda_{T} \\cdot \\sigma^2_{P}$) with risk aversion $\\lambda_{T} = 0.0075$. Investor B manages residual risk and return ($\\alpha_{P} − \\lambda{_R} \\cdot \\omega^2_{P}$), with risk aversion $\\lambda_{R} = 0.075$ (moderate to aggressive). They each can choose between two portfolios:\n",
    ">\n",
    ">- $f_{1} = 10\\%$\n",
    ">- $σ_{1} = 20.22\\%$\n",
    ">- $f_{2} = 16\\%$\n",
    ">- $σ_{2} = 25\\%$\n",
    "><br/>\n",
    ">\n",
    ">Both portfolios have β = 1. Furthermore,\n",
    ">- $f_{B} = 6\\%$\n",
    ">- $σ_{B} = 20\\%$\n",
    "><br/>\n",
    ">\n",
    ">Which portfolio will A prefer? Which portfolio will B prefer? (Hint: First calculate expected residual return and residual risk for the two portfolios.)"
   ],
   "id": "2a20588760515392"
  },
  {
   "metadata": {},
   "cell_type": "markdown",
   "source": [
    "Notes:\n",
    "- residual return &emsp; $\\theta_{p} = r_{p} - \\beta_{p} \\cdot r_{B}$\n",
    "- residual risk &emsp;  $\\omega_{p} = Std\\{\\theta_{p}\\}$"
   ],
   "id": "5f8dbb0dd1aeaa27"
  },
  {
   "metadata": {
    "ExecuteTime": {
     "end_time": "2025-01-15T09:39:05.775488Z",
     "start_time": "2025-01-15T09:39:05.772166Z"
    }
   },
   "cell_type": "code",
   "source": [
    "f_1 = 0.1\n",
    "sigma_1 = 0.2022\n",
    "risk_aversion_1 = 0.75\n",
    "f_2 = 0.16\n",
    "sigma_2 = 0.25\n",
    "risk_aversion_2 = 7.5\n",
    "beta = 1\n",
    "f_b = 0.06\n",
    "sigma_b = 0.2\n",
    "\n",
    "# residual return (alpha)\n",
    "alpha_1 = f_1 - beta * f_b\n",
    "alpha_2 = f_2 - beta * f_b\n",
    "\n",
    "# residual risk (omega)\n",
    "omega_1 = sqrt( sigma_1**2 - beta*sigma_b**2 )\n",
    "omega_2 = sqrt( sigma_2**2 - beta*sigma_b**2 )\n",
    "\n",
    "print(f'residual returns p1: {alpha_1:.2%}, p2: {alpha_2:.2%}')\n",
    "print(f'residual risks p1: {omega_1:.2%}, p2: {omega_2:.2%}')\n",
    "print()\n",
    "\n",
    "# investor A manages total return and risk\n",
    "p_1 = f_1 - risk_aversion_1 * sigma_1**2\n",
    "p_2 = f_2 - risk_aversion_1 * sigma_2**2\n",
    "print(f'total return and risk p1: {p_1:.2%}, p2: {p_2:.2%}')\n",
    "print(f\"Investor A prefers portfolio: {'p1' if p_1 > p_2 else 'p2'} as it has the highest utility\")\n",
    "print()\n",
    "\n",
    "# investor B manages residual risk and return\n",
    "p_1 = alpha_1 - risk_aversion_2 * omega_1 ** 2\n",
    "p_2 = alpha_2 - risk_aversion_2 * omega_2 ** 2\n",
    "print(f'residual risk and return p1: {p_1:.2%}, p2: {p_2:.2%}')\n",
    "print(f\"Investor B prefers portfolio: {'p1' if p_1 > p_2 else 'p2'} as it has the largest return\")"
   ],
   "id": "18d315427316765a",
   "outputs": [
    {
     "name": "stdout",
     "output_type": "stream",
     "text": [
      "residual returns p1: 4.00%, p2: 10.00%\n",
      "residual risks p1: 2.97%, p2: 15.00%\n",
      "\n",
      "total return and risk p1: 6.93%, p2: 11.31%\n",
      "Investor A prefers portfolio: p2 as it has the highest utility\n",
      "\n",
      "residual risk and return p1: 3.34%, p2: -6.87%\n",
      "Investor B prefers portfolio: p1 as it has the largest return\n"
     ]
    }
   ],
   "execution_count": 4
  },
  {
   "metadata": {},
   "cell_type": "markdown",
   "source": [
    "***\n",
    "__Question 4.5__\n",
    "> Assume that you are a mean/variance investor with total risk aversion of 0.0075. If a portfolio has an expected excess return of 6 percent and risk of 20 percent, what is your certainty equivalent return, the certain expected excess return that you would fairly trade for this portfolio."
   ],
   "id": "cfe2f197796c346"
  },
  {
   "metadata": {},
   "cell_type": "markdown",
   "source": "Note: &emsp; manage for return and risk ($f_{P} − \\lambda_{T} \\cdot \\sigma^2_{P}$)",
   "id": "870ed227baab5e80"
  },
  {
   "metadata": {
    "ExecuteTime": {
     "end_time": "2025-01-15T09:39:05.791523Z",
     "start_time": "2025-01-15T09:39:05.789233Z"
    }
   },
   "cell_type": "code",
   "source": [
    "risk_aversion = 0.75\n",
    "f_p = 0.06\n",
    "sigma_p = 0.2\n",
    "\n",
    "print(f'utility is: {(f_p - risk_aversion*sigma_p**2):.2%}')"
   ],
   "id": "67d7e7baf669a7f4",
   "outputs": [
    {
     "name": "stdout",
     "output_type": "stream",
     "text": [
      "utility is: 3.00%\n"
     ]
    }
   ],
   "execution_count": 5
  },
  {
   "metadata": {},
   "cell_type": "markdown",
   "source": "",
   "id": "9a5ed7a6da53795c"
  }
 ],
 "metadata": {
  "kernelspec": {
   "display_name": "Python 3",
   "language": "python",
   "name": "python3"
  },
  "language_info": {
   "codemirror_mode": {
    "name": "ipython",
    "version": 2
   },
   "file_extension": ".py",
   "mimetype": "text/x-python",
   "name": "python",
   "nbconvert_exporter": "python",
   "pygments_lexer": "ipython2",
   "version": "2.7.6"
  }
 },
 "nbformat": 4,
 "nbformat_minor": 5
}
