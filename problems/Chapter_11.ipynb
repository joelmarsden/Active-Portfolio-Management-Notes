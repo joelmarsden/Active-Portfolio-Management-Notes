{
 "cells": [
  {
   "cell_type": "markdown",
   "id": "abdef6c1b5481e4a",
   "metadata": {},
   "source": [
    "__Chapter 11 Problems__\n"
   ]
  },
  {
   "cell_type": "code",
   "execution_count": 1,
   "id": "a098db24e029ff8a",
   "metadata": {
    "ExecuteTime": {
     "end_time": "2025-01-17T01:06:50.650437Z",
     "start_time": "2025-01-17T01:06:50.646929Z"
    }
   },
   "outputs": [],
   "source": [
    "from math import sqrt"
   ]
  },
  {
   "cell_type": "markdown",
   "id": "3bedb754aa3a4cc1",
   "metadata": {},
   "source": [
    "***\n",
    "__Question 11.1__\n",
    " > Signal 1 and Signal 2 have equal IC, and both exhibit signal volatilities proportional to asset volatilities. Do the two signals receive equal weight in the forecast of exceptional return?\n",
    "\n",
    "Note: where signal volatilities are proportional to asset volatilities then: &emsp; $ \\phi_{n} = IC \\cdot c_{g} \\cdot z_{CS,n}$"
   ]
  },
  {
   "cell_type": "code",
   "execution_count": 2,
   "id": "f37c52b8c8da2fb9",
   "metadata": {
    "ExecuteTime": {
     "end_time": "2025-01-17T01:06:50.662425Z",
     "start_time": "2025-01-17T01:06:50.660038Z"
    }
   },
   "outputs": [
    {
     "name": "stdout",
     "output_type": "stream",
     "text": [
      "No as although both ICs are the same the factor 'c_g' may differ\n"
     ]
    }
   ],
   "source": [
    "print(f\"No as although both ICs are the same the factor 'c_g' may differ\")"
   ]
  },
  {
   "cell_type": "markdown",
   "id": "ce4ac324fbe33c1c",
   "metadata": {},
   "source": [
    "***\n",
    "__Question 11.2__\n",
    " > What IR would you naively expect if you combined strategies A and C in Table 11.3? Why might the observed answer differ from the naive result?"
   ]
  },
  {
   "cell_type": "code",
   "execution_count": 3,
   "id": "81413797722639bb",
   "metadata": {
    "ExecuteTime": {
     "end_time": "2025-01-17T01:06:50.725392Z",
     "start_time": "2025-01-17T01:06:50.723115Z"
    }
   },
   "outputs": [
    {
     "name": "stdout",
     "output_type": "stream",
     "text": [
      "a) the naive (no correlation) combination of A = 3.26 and C = 1.57 is: 3.62\n",
      "b) the actual combined IR may be lower due to a correlation between A and C\n"
     ]
    }
   ],
   "source": [
    "ir_a = 3.26\n",
    "ir_c = 1.57\n",
    "\n",
    "ir_ac_naive = sqrt(ir_a**2 + ir_c**2)\n",
    "print(f'a) the naive (no correlation) combination of A = {ir_a} and C = {ir_c} is: {ir_ac_naive:.2f}')\n",
    "print(f'b) the actual combined IR may be lower due to a correlation between A and C')"
   ]
  },
  {
   "cell_type": "markdown",
   "id": "6db137b9d77898c3",
   "metadata": {},
   "source": [
    "***\n",
    "__Question 11.3__\n",
    " > How much should you shrink coefficient b, connecting raw signals and realized returns, estimated with $R^{2} = 0.05$ after 120 months?"
   ]
  },
  {
   "cell_type": "code",
   "execution_count": 4,
   "id": "439e7c7207120b9b",
   "metadata": {
    "ExecuteTime": {
     "end_time": "2025-01-17T01:06:50.731533Z",
     "start_time": "2025-01-17T01:06:50.729592Z"
    }
   },
   "outputs": [
    {
     "name": "stdout",
     "output_type": "stream",
     "text": [
      "coefficient b should be shrunk by: 0.231\n"
     ]
    }
   ],
   "source": [
    "T = 120\n",
    "IC = 0.05 # R^2\n",
    "\n",
    "b_prime = 1 / (1 + (1/(T * IC**2)))\n",
    "print(f'coefficient b should be shrunk by: {b_prime:.3f}')"
   ]
  }
 ],
 "metadata": {
  "kernelspec": {
   "display_name": "Python 3 (ipykernel)",
   "language": "python",
   "name": "python3"
  },
  "language_info": {
   "codemirror_mode": {
    "name": "ipython",
    "version": 3
   },
   "file_extension": ".py",
   "mimetype": "text/x-python",
   "name": "python",
   "nbconvert_exporter": "python",
   "pygments_lexer": "ipython3",
   "version": "3.12.8"
  }
 },
 "nbformat": 4,
 "nbformat_minor": 5
}
