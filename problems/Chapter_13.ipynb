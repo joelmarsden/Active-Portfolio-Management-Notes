{
 "cells": [
  {
   "metadata": {},
   "cell_type": "markdown",
   "source": "__Chapter 13 Problems__",
   "id": "5153fbf45a90c946"
  },
  {
   "metadata": {
    "ExecuteTime": {
     "end_time": "2025-01-17T02:40:02.212223Z",
     "start_time": "2025-01-17T02:40:02.208298Z"
    }
   },
   "cell_type": "code",
   "source": "from math import sqrt",
   "id": "7fd47bbd1190fb72",
   "outputs": [],
   "execution_count": 1
  },
  {
   "metadata": {},
   "cell_type": "markdown",
   "source": [
    "***\n",
    "__Question 13.1__\n",
    " > Your research has identified a monthly signal with IR=1. You notice that delaying its implementation by one quarter reduces the IR to 0.75. What is the signal’s half-life? What is the half-life of the value added?"
   ],
   "id": "7258d8f39235605"
  },
  {
   "metadata": {
    "ExecuteTime": {
     "end_time": "2025-01-17T02:40:02.218666Z",
     "start_time": "2025-01-17T02:40:02.216275Z"
    }
   },
   "cell_type": "code",
   "source": "print('TODO')",
   "id": "ec900d9bdcdc0123",
   "outputs": [
    {
     "name": "stdout",
     "output_type": "stream",
     "text": [
      "TODO\n"
     ]
    }
   ],
   "execution_count": 2
  },
  {
   "metadata": {},
   "cell_type": "markdown",
   "source": [
    "***\n",
    "__Question 13.2__\n",
    " > In further researching the signal in Problem 13.1, you discover that the correlation of active returns to this signal and this signal implemented 1 month late is 0.75. What is the optimal combination of current and lagged portfolios?"
   ],
   "id": "34879eeba9246fd7"
  },
  {
   "metadata": {
    "ExecuteTime": {
     "end_time": "2025-01-17T02:40:02.336161Z",
     "start_time": "2025-01-17T02:40:02.332500Z"
    }
   },
   "cell_type": "code",
   "source": "print('TODO')",
   "id": "87f7198f35a5bd82",
   "outputs": [
    {
     "name": "stdout",
     "output_type": "stream",
     "text": [
      "TODO\n"
     ]
    }
   ],
   "execution_count": 3
  },
  {
   "metadata": {},
   "cell_type": "markdown",
   "source": [
    "***\n",
    "__Question 13.3__\n",
    " > You forecast α = 2 percent for a stock with ω = 25 percent, based on a signal with IC = 0.05. Suddenly the stock moves, with θ = 10 percent. How should you adjust your alpha? Is it now positive or negative?"
   ],
   "id": "6f59f890cc598a7a"
  },
  {
   "metadata": {
    "ExecuteTime": {
     "end_time": "2025-01-17T02:40:02.405953Z",
     "start_time": "2025-01-17T02:40:02.403706Z"
    }
   },
   "cell_type": "code",
   "source": "print('TODO')",
   "id": "31ae8b7fe5bd7d00",
   "outputs": [
    {
     "name": "stdout",
     "output_type": "stream",
     "text": [
      "TODO\n"
     ]
    }
   ],
   "execution_count": 4
  }
 ],
 "metadata": {
  "kernelspec": {
   "display_name": "Python 3",
   "language": "python",
   "name": "python3"
  },
  "language_info": {
   "codemirror_mode": {
    "name": "ipython",
    "version": 2
   },
   "file_extension": ".py",
   "mimetype": "text/x-python",
   "name": "python",
   "nbconvert_exporter": "python",
   "pygments_lexer": "ipython2",
   "version": "2.7.6"
  }
 },
 "nbformat": 4,
 "nbformat_minor": 5
}
