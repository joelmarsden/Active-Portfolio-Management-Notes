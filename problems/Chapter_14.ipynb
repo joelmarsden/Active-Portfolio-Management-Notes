{
 "cells": [
  {
   "cell_type": "markdown",
   "id": "5888d355d1aa3e2f",
   "metadata": {},
   "source": [
    "__Chapter 14 Problems__"
   ]
  },
  {
   "cell_type": "code",
   "execution_count": 1,
   "id": "167ddaec414d06c9",
   "metadata": {
    "ExecuteTime": {
     "end_time": "2025-01-26T04:16:05.376928Z",
     "start_time": "2025-01-26T04:16:05.373264Z"
    }
   },
   "outputs": [],
   "source": [
    "from math import sqrt"
   ]
  },
  {
   "cell_type": "markdown",
   "id": "135d7e793a4fa096",
   "metadata": {},
   "source": [
    "***\n",
    "__Question 14.1__\n",
    " > Table 14.1 shows both alphas used in a constrained optimization and the modified alphas which, in an unconstrained optimization, lead to the same holdings. Comparing these two sets of alphas can help in estimating the loss in value added caused by the constraints. How? What is the loss in this example? The next chapter will discuss this in more detail.\n",
    "\n",
    "Note:  $Refined  Forecast = volatility \\cdot IC \\cdot score$ &emsp; and &emsp;  $ VA^{*} = \\frac{IR^{2}}{4 \\lambda_{R}}$"
   ]
  },
  {
   "cell_type": "code",
   "execution_count": 2,
   "id": "c55f431bba874785",
   "metadata": {
    "ExecuteTime": {
     "end_time": "2025-01-26T04:16:05.387502Z",
     "start_time": "2025-01-26T04:16:05.383449Z"
    }
   },
   "outputs": [
    {
     "name": "stdout",
     "output_type": "stream",
     "text": [
      "Loss in IC is: 71.50%\n",
      "loss in VA is: 48.88%\n"
     ]
    }
   ],
   "source": [
    "sigma_unconstrained = 2\n",
    "sigma_constrained = .57\n",
    "\n",
    "# loss in IC\n",
    "loss_in_ic = (sigma_unconstrained-sigma_constrained)/sigma_unconstrained\n",
    "print(f'Loss in IC is: {loss_in_ic:.2%}')\n",
    "\n",
    "# change in VA is proportional to the square of the change in IC - so\n",
    "va_loss = 1**2 - loss_in_ic**2\n",
    "print(f'loss in VA is: {va_loss:.2%}')"
   ]
  },
  {
   "cell_type": "markdown",
   "id": "1ddea44a21f757a2",
   "metadata": {},
   "source": [
    "***\n",
    "__Question 14.2__\n",
    " > Discuss how restrictions on short sales are both a barrier to a manager’s effective use of information and a safeguard against poor information."
   ]
  },
  {
   "cell_type": "markdown",
   "id": "4d536981ab5ae6b4",
   "metadata": {},
   "source": [
    "A restriction on short selling means we can't short negative alpha stocks/assets.  This in turn means we are not effectively using all the information we have leading to a loss in value add.  If the information is poor however, then a restriction on short selling is a safeguard as it shorting is inherently risky."
   ]
  },
  {
   "cell_type": "markdown",
   "id": "e65fb0e02bc57333",
   "metadata": {},
   "source": [
    "***\n",
    "__Question 14.3__\n",
    " > Lisa is a value manager who chooses stocks based on their price/earnings ratios. What biases would you expect to see in her alphas? How should she construct portfolios based on these alphas, in order to bet only on specific asset returns?"
   ]
  },
  {
   "cell_type": "markdown",
   "id": "cc4a898ec1e02e05",
   "metadata": {},
   "source": [
    "- Value Factor Bias: Overweighting stocks with low P/E ratios, typical of value stocks.\n",
    "- Sector/Industry Bias: Overexposure to sectors with traditionally low P/E ratios (e.g., financials, energy).\n",
    "- Market Capitalization Bias: Potential bias toward smaller-cap stocks, which often have lower P/E ratios.\n",
    "- Cyclicality: Performance may be tied to economic cycles, favoring value stocks during recovery phases.\n",
    "- Risk Model Divergence: Unintended exposure to non-specific risks, such as market beta, volatility, or macroeconomic factors.\n",
    "\n",
    "Ways to construct portfolios is to calculate the capitalization-weight for each grouping (eg industry) and substract. the category average alpha from each alpha in that category"
   ]
  },
  {
   "cell_type": "markdown",
   "id": "f9a44d496583bc8a",
   "metadata": {},
   "source": [
    "***\n",
    "__Question 14.4__\n",
    " > You are a benchmark timer who in back-tests can add 50 basis points of risk-adjusted value added. You forecast 14 percent benchmark volatility, the recent average, but unfortunately benchmark volatility turns out to be 17 percent. How much value can you add, given this mis-estimation of benchmark volatility?"
   ]
  },
  {
   "cell_type": "code",
   "execution_count": 3,
   "id": "3b057b634d03f5a4",
   "metadata": {
    "ExecuteTime": {
     "end_time": "2025-01-26T04:16:05.482283Z",
     "start_time": "2025-01-26T04:16:05.479952Z"
    }
   },
   "outputs": [
    {
     "name": "stdout",
     "output_type": "stream",
     "text": [
      "Value lost is: 11.26 basis points (or 22.5%)\n"
     ]
    }
   ],
   "source": [
    "VA = 50 # basis points\n",
    "true_vol = 0.17\n",
    "forecast_vol = 0.14\n",
    "\n",
    "loss = VA * (1-(true_vol/forecast_vol)**2)**2\n",
    "print(f'Value lost is: {loss:.2f} basis points (or {loss/VA:.1%})')"
   ]
  },
  {
   "cell_type": "markdown",
   "id": "e0943354e4a2df0f",
   "metadata": {},
   "source": [
    "***\n",
    "__Question 14.5__\n",
    " > You manage 20 separate accounts using the same investment process. Each portfolio holds about 100 names, with 90 names appearing in all the accounts and 10 names unique to the particular account. Roughly how much dispersion should you expect to see?"
   ]
  },
  {
   "cell_type": "code",
   "execution_count": 4,
   "id": "2447d2593df208aa",
   "metadata": {
    "ExecuteTime": {
     "end_time": "2025-01-26T04:16:05.491345Z",
     "start_time": "2025-01-26T04:16:05.488535Z"
    }
   },
   "outputs": [
    {
     "name": "stdout",
     "output_type": "stream",
     "text": [
      "TODO - Did not read/summarise the dispersion section\n"
     ]
    }
   ],
   "source": [
    "print('TODO - Did not read/summarise the dispersion section')"
   ]
  }
 ],
 "metadata": {
  "kernelspec": {
   "display_name": "Python 3 (ipykernel)",
   "language": "python",
   "name": "python3"
  },
  "language_info": {
   "codemirror_mode": {
    "name": "ipython",
    "version": 3
   },
   "file_extension": ".py",
   "mimetype": "text/x-python",
   "name": "python",
   "nbconvert_exporter": "python",
   "pygments_lexer": "ipython3",
   "version": "3.12.8"
  }
 },
 "nbformat": 4,
 "nbformat_minor": 5
}
