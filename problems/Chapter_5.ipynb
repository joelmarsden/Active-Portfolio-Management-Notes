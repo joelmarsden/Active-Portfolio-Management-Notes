{
 "cells": [
  {
   "metadata": {},
   "cell_type": "markdown",
   "source": "__Chapter 5 Problems__\n",
   "id": "c6133ae1df629d92"
  },
  {
   "metadata": {
    "ExecuteTime": {
     "end_time": "2025-01-15T09:39:10.294066Z",
     "start_time": "2025-01-15T09:39:10.289426Z"
    }
   },
   "cell_type": "code",
   "source": "from math import sqrt",
   "id": "e037600a470a1072",
   "outputs": [],
   "execution_count": 1
  },
  {
   "metadata": {},
   "cell_type": "markdown",
   "source": [
    "***\n",
    "__Question 5.1__\n",
    " > What is the information ratio of a passive manager?"
   ],
   "id": "36db29df89574204"
  },
  {
   "metadata": {
    "ExecuteTime": {
     "end_time": "2025-01-15T09:39:10.308896Z",
     "start_time": "2025-01-15T09:39:10.306610Z"
    }
   },
   "cell_type": "code",
   "source": [
    "IR_p = 0\n",
    "print(f'As passive (not active) the IR is: {IR_p:.2%}')"
   ],
   "id": "f8daa63ae1edaf43",
   "outputs": [
    {
     "name": "stdout",
     "output_type": "stream",
     "text": [
      "As passive (not active) the IR is: 0.00%\n"
     ]
    }
   ],
   "execution_count": 2
  },
  {
   "metadata": {},
   "cell_type": "markdown",
   "source": [
    "***\n",
    "__Question 5.2__\n",
    "> What is the information ratio required to add a risk-adjusted return of 2.5 percent with a moderate risk aversion level of 0.10? What level of active risk would that require?"
   ],
   "id": "14b9bf304b979760"
  },
  {
   "metadata": {},
   "cell_type": "markdown",
   "source": "Note: &emsp; $\\boxed{ VA^{*} = \\frac{IR^2}{4\\lambda_{R}} }$ &emsp; and &emsp; $\\boxed{ \\omega^{*} = \\frac{IR}{2\\lambda_{R}} }$",
   "id": "bce524eb2e7646ea"
  },
  {
   "metadata": {
    "ExecuteTime": {
     "end_time": "2025-01-15T09:39:10.385146Z",
     "start_time": "2025-01-15T09:39:10.382739Z"
    }
   },
   "cell_type": "code",
   "source": [
    "va = 2.5\n",
    "lambda_r = 0.1\n",
    "\n",
    "ir = sqrt( va * 4 * lambda_r )\n",
    "omega = ir / 2*lambda_r\n",
    "\n",
    "print(f'required IR is: {ir:.2f}')\n",
    "print(f'corresponding level of active risk is: {omega:.2%}')"
   ],
   "id": "245114e7f07c87c",
   "outputs": [
    {
     "name": "stdout",
     "output_type": "stream",
     "text": [
      "required IR is: 1.00\n",
      "corresponding level of active risk is: 5.00%\n"
     ]
    }
   ],
   "execution_count": 3
  },
  {
   "metadata": {},
   "cell_type": "markdown",
   "source": [
    "***\n",
    "__Question 5.3__\n",
    "> Starting with the universe of MMI stocks, we make the assumptions\n",
    "> - Q = MMI portfolio\n",
    "> - $f_{Q} = 6\\%$\n",
    "> - B = capitalization-weighted MMI portfolio\n",
    "> | Portfolio          | β wrt B               | β wrt to Q          |  σ                    |\n",
    "> |--------------------|-----------------------|---------------------|-----------------------|\n",
    "> | B                  | 1.000                 | 0.965               | 15.50 %               |\n",
    "> | Q                  | 1.004                 | 1.000               | 15.82 %               |\n",
    "> | C                  | 0.865                 | 0.831               | 14.42 %               |\n",
    ">\n",
    "> where portfolio C is the minimum-variance (fully invested) portfolio. For each portfolio (Q, B, and C), calculate f, α, ω, SR, and IR."
   ],
   "id": "8d521eab39f3ab98"
  },
  {
   "metadata": {
    "ExecuteTime": {
     "end_time": "2025-01-15T09:39:10.398931Z",
     "start_time": "2025-01-15T09:39:10.397180Z"
    }
   },
   "cell_type": "code",
   "source": "# TODO",
   "id": "e03a032dfb6f3d5f",
   "outputs": [],
   "execution_count": 4
  },
  {
   "metadata": {},
   "cell_type": "markdown",
   "source": [
    "***\n",
    "__Question 5.4__\n",
    "> You have a residual risk aversion of $\\lambda_{R} = 0.12$ and an information ratio of IR = 0.60. What is your optimal level of residual risk? What is your optimal value added?"
   ],
   "id": "8409c1676aaf1b27"
  },
  {
   "metadata": {
    "ExecuteTime": {
     "end_time": "2025-01-15T09:39:10.412644Z",
     "start_time": "2025-01-15T09:39:10.410057Z"
    }
   },
   "cell_type": "code",
   "source": [
    "lambda_r = 0.12\n",
    "IR = 0.6\n",
    "\n",
    "\n",
    "omega = IR/(2*lambda_r)\n",
    "VA = IR**2/(4*lambda_r)\n",
    "print(f'optimal ω (level of residual risk) is: {omega:.2f}%')\n",
    "print(f'optimal VA (value add) is: {VA:.2f}%')"
   ],
   "id": "71d3c6c5836946db",
   "outputs": [
    {
     "name": "stdout",
     "output_type": "stream",
     "text": [
      "optimal ω (level of residual risk) is: 2.50%\n",
      "optimal VA (value add) is: 0.75%\n"
     ]
    }
   ],
   "execution_count": 5
  },
  {
   "metadata": {},
   "cell_type": "markdown",
   "source": [
    "***\n",
    "__Question 5.5__\n",
    "> Oops. In fact, your information ratio is really only IR = 0.30. How much value added have you lost by setting your residual risk level according to Problem 4 instead of at its correct optimal level?"
   ],
   "id": "af060ef05944c134"
  },
  {
   "metadata": {
    "ExecuteTime": {
     "end_time": "2025-01-15T09:39:10.433793Z",
     "start_time": "2025-01-15T09:39:10.431622Z"
    }
   },
   "cell_type": "code",
   "source": [
    "IR_new = 0.3\n",
    "omega_new = IR_new/(2*lambda_r)\n",
    "VA_new = IR_new**2/(4*lambda_r)\n",
    "\n",
    "VA_optimal_risk = omega*IR_new - lambda_r*omega**2\n",
    "print(f'Lost VA (value add) for updated IR is: {VA_optimal_risk-VA_new:.4f}%')"
   ],
   "id": "ee2e543b8c65ebe7",
   "outputs": [
    {
     "name": "stdout",
     "output_type": "stream",
     "text": [
      "Lost VA (value add) for updated IR is: -0.1875%\n"
     ]
    }
   ],
   "execution_count": 6
  },
  {
   "metadata": {},
   "cell_type": "markdown",
   "source": [
    "***\n",
    "__Question 5.6__\n",
    "> You are an active manager with an information ratio of IR = 0.50 (top quartile) and a target level of residual risk of 4 percent. What residual risk aversion should lead to that level of risk?"
   ],
   "id": "de62975130e28f02"
  },
  {
   "metadata": {
    "ExecuteTime": {
     "end_time": "2025-01-15T09:39:10.453113Z",
     "start_time": "2025-01-15T09:39:10.451164Z"
    }
   },
   "cell_type": "code",
   "source": [
    "IR = 0.5\n",
    "omega = 4.00\n",
    "\n",
    "lambda_r = IR / (2*omega)\n",
    "print(f'level of residual risk aversion is: {lambda_r:.4f}%')"
   ],
   "id": "77f93f97340097b7",
   "outputs": [
    {
     "name": "stdout",
     "output_type": "stream",
     "text": [
      "level of residual risk aversion is: 0.0625%\n"
     ]
    }
   ],
   "execution_count": 7
  }
 ],
 "metadata": {
  "kernelspec": {
   "name": "python3",
   "language": "python",
   "display_name": "Python 3 (ipykernel)"
  }
 },
 "nbformat": 5,
 "nbformat_minor": 9
}
