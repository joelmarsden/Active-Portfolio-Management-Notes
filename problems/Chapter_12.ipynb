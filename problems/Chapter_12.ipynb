{
 "cells": [
  {
   "metadata": {},
   "cell_type": "markdown",
   "source": "__Chapter 12 Problems__\n",
   "id": "8f4310b29a4baa20"
  },
  {
   "metadata": {
    "ExecuteTime": {
     "end_time": "2025-01-17T02:19:45.586838Z",
     "start_time": "2025-01-17T02:19:45.584193Z"
    }
   },
   "cell_type": "code",
   "source": "from math import sqrt",
   "id": "b050c2d3d6da7cb2",
   "outputs": [],
   "execution_count": 1
  },
  {
   "metadata": {},
   "cell_type": "markdown",
   "source": [
    "***\n",
    "__Question 12.1__\n",
    " > What problems can arise in using scores instead of alphas in information analysis? Where in the analysis would these problems show up?\n"
   ],
   "id": "e9bb90a260155bb6"
  },
  {
   "metadata": {
    "ExecuteTime": {
     "end_time": "2025-01-17T02:19:45.594038Z",
     "start_time": "2025-01-17T02:19:45.592273Z"
    }
   },
   "cell_type": "code",
   "source": "print('TODO')",
   "id": "3aa16b48e2dea1db",
   "outputs": [
    {
     "name": "stdout",
     "output_type": "stream",
     "text": [
      "TODO\n"
     ]
    }
   ],
   "execution_count": 2
  },
  {
   "metadata": {},
   "cell_type": "markdown",
   "source": [
    "***\n",
    "__Question 12.2__\n",
    " > What do you conclude from the information analysis presented concerning book-to-price ratios in the United States?"
   ],
   "id": "5bd435752ab3b805"
  },
  {
   "metadata": {
    "ExecuteTime": {
     "end_time": "2025-01-17T02:19:45.681846Z",
     "start_time": "2025-01-17T02:19:45.679631Z"
    }
   },
   "cell_type": "code",
   "source": "print('TODO')",
   "id": "7274b6005b038e87",
   "outputs": [
    {
     "name": "stdout",
     "output_type": "stream",
     "text": [
      "TODO\n"
     ]
    }
   ],
   "execution_count": 3
  },
  {
   "metadata": {},
   "cell_type": "markdown",
   "source": [
    "***\n",
    "__Question 12.3__\n",
    " > Why might we see misleading results if we looked only at the relative performance of top- and bottom-quintile portfolios instead of looking at factor portfolio performance?"
   ],
   "id": "ec370c4bf83684fe"
  },
  {
   "metadata": {
    "ExecuteTime": {
     "end_time": "2025-01-17T02:19:45.695602Z",
     "start_time": "2025-01-17T02:19:45.693578Z"
    }
   },
   "cell_type": "code",
   "source": "print('TODO')",
   "id": "72c0f9751a05211a",
   "outputs": [
    {
     "name": "stdout",
     "output_type": "stream",
     "text": [
      "TODO\n"
     ]
    }
   ],
   "execution_count": 4
  },
  {
   "metadata": {},
   "cell_type": "markdown",
   "source": [
    "***\n",
    "__Question 12.4__\n",
    " > The probability of observing a |t statistic | > 2, using random data, is only 5 percent. Hence our confidence in the estimate is 95 percent. Show that the probability of observing at least one |t statistic | > 2 with 20 regressions on independent sets of random data is 64 percent."
   ],
   "id": "bac24a5d2a7c39cc"
  },
  {
   "metadata": {
    "ExecuteTime": {
     "end_time": "2025-01-17T02:19:45.701980Z",
     "start_time": "2025-01-17T02:19:45.699852Z"
    }
   },
   "cell_type": "code",
   "source": "print('TODO')",
   "id": "b0573412ad850c5f",
   "outputs": [
    {
     "name": "stdout",
     "output_type": "stream",
     "text": [
      "TODO\n"
     ]
    }
   ],
   "execution_count": 5
  },
  {
   "metadata": {},
   "cell_type": "markdown",
   "source": [
    "***\n",
    "__Question 12.5__\n",
    " > Show that the standard error of the information ratio is approximately $1/\\sqrt{T}$, where $T$ is the number of years of observation. Assume that you can measure the standard deviation of returns with\n",
    "perfect accuracy, so that all the error is in the estimate of the mean. Remember that the standard error of an estimated mean is $1/\\sqrt{N}$, where $N$ is the number of observations."
   ],
   "id": "87500ca0796dcf15"
  },
  {
   "metadata": {
    "ExecuteTime": {
     "end_time": "2025-01-17T02:19:45.713877Z",
     "start_time": "2025-01-17T02:19:45.711912Z"
    }
   },
   "cell_type": "code",
   "source": "print('TODO')",
   "id": "af9dbb7dcb92417",
   "outputs": [
    {
     "name": "stdout",
     "output_type": "stream",
     "text": [
      "TODO\n"
     ]
    }
   ],
   "execution_count": 6
  },
  {
   "metadata": {},
   "cell_type": "markdown",
   "source": [
    "***\n",
    "__Question 12.6__\n",
    " > You wish to analyze the value of corporate insider stock transactions. Should you analyze these using the standard cross-sectional methodology or an event study? If you use an event study, what conditioning variables will you consider?"
   ],
   "id": "2006a57887625434"
  },
  {
   "metadata": {
    "ExecuteTime": {
     "end_time": "2025-01-17T02:19:45.735556Z",
     "start_time": "2025-01-17T02:19:45.732835Z"
    }
   },
   "cell_type": "code",
   "source": "print('TODO')",
   "id": "397753e03d3d508c",
   "outputs": [
    {
     "name": "stdout",
     "output_type": "stream",
     "text": [
      "TODO\n"
     ]
    }
   ],
   "execution_count": 7
  },
  {
   "metadata": {},
   "cell_type": "markdown",
   "source": [
    "***\n",
    "__Question 12.7__\n",
    " > Haugen and Baker (1996) have proposed an APT model in which expected factor returns are simply based on past 12-month moving averages. Applying this idea to the BARRA U.S. Equity model from January 1974 through March 1996 leads to an information ratio of 1.79. Applying this idea only to the risk indices in the model (using consensus expected returns for industries) leads to an information ratio of 1.26. (a) What information ratio would you expect to find from applying this model to industries only? (b) If the full application exhibits an information coefficient of 0.05, what is the implied breadth of the strategy?"
   ],
   "id": "f4ed5900d5c15b05"
  },
  {
   "metadata": {
    "ExecuteTime": {
     "end_time": "2025-01-17T02:19:45.741400Z",
     "start_time": "2025-01-17T02:19:45.739783Z"
    }
   },
   "cell_type": "code",
   "source": "print('TODO')",
   "id": "ab57cf54df63f851",
   "outputs": [
    {
     "name": "stdout",
     "output_type": "stream",
     "text": [
      "TODO\n"
     ]
    }
   ],
   "execution_count": 8
  },
  {
   "metadata": {},
   "cell_type": "markdown",
   "source": [
    "***\n",
    "__Question 12.8__\n",
    " > A current get-rich-quick Web site guarantees that over the next 3 months, at least three stocks mentioned on the site will exhibit annualized returns of at least 300 percent. Assuming that all stock returns are independent, normally distributed, and with expected annual returns of 12 percent and risk of 35 percent, (a) what is the probability that over one quarter at least 3 stocks out of 500 exhibit annualized returns of at least 300%? (b) How many stocks must the Web site include for this probability to be 50 percent? (c) Identify at least two real-world deviations from the above assumptions, and discuss how they would affect the calculated probabilities."
   ],
   "id": "c7bd7f25711a1c78"
  },
  {
   "metadata": {
    "ExecuteTime": {
     "end_time": "2025-01-17T02:19:45.750249Z",
     "start_time": "2025-01-17T02:19:45.748424Z"
    }
   },
   "cell_type": "code",
   "source": "print('TODO')",
   "id": "1f854c29c1c123f4",
   "outputs": [
    {
     "name": "stdout",
     "output_type": "stream",
     "text": [
      "TODO\n"
     ]
    }
   ],
   "execution_count": 9
  }
 ],
 "metadata": {
  "kernelspec": {
   "display_name": "Python 3",
   "language": "python",
   "name": "python3"
  },
  "language_info": {
   "codemirror_mode": {
    "name": "ipython",
    "version": 2
   },
   "file_extension": ".py",
   "mimetype": "text/x-python",
   "name": "python",
   "nbconvert_exporter": "python",
   "pygments_lexer": "ipython2",
   "version": "2.7.6"
  }
 },
 "nbformat": 4,
 "nbformat_minor": 5
}
